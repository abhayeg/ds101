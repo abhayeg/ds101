{
 "cells": [
  {
   "cell_type": "code",
   "execution_count": 1,
   "metadata": {},
   "outputs": [],
   "source": [
    "import pandas as pd\n",
    "from pandas import DataFrame\n",
    "import numpy as np\n",
    "\n",
    "import matplotlib\n",
    "import matplotlib.pyplot as plt\n",
    "from mpl_toolkits.mplot3d import Axes3D\n",
    "import seaborn as sns\n",
    "from scipy.stats import norm, kurtosis, skew\n",
    "#from wordcloud import WordCloud, STOPWORDS\n",
    "pd.options.display.float_format = '{:,.1f}'.format\n",
    "\n",
    "sns.set()\n",
    "%matplotlib inline"
   ]
  },
  {
   "cell_type": "code",
   "execution_count": 2,
   "metadata": {},
   "outputs": [],
   "source": [
    "unicomp = pd.read_excel('unicomp.xls')\n",
    "articomp = pd.read_excel('articomp.xls')"
   ]
  },
  {
   "cell_type": "code",
   "execution_count": 179,
   "metadata": {},
   "outputs": [
    {
     "data": {
      "text/html": [
       "<div>\n",
       "<style scoped>\n",
       "    .dataframe tbody tr th:only-of-type {\n",
       "        vertical-align: middle;\n",
       "    }\n",
       "\n",
       "    .dataframe tbody tr th {\n",
       "        vertical-align: top;\n",
       "    }\n",
       "\n",
       "    .dataframe thead th {\n",
       "        text-align: right;\n",
       "    }\n",
       "</style>\n",
       "<table border=\"1\" class=\"dataframe\">\n",
       "  <thead>\n",
       "    <tr style=\"text-align: right;\">\n",
       "      <th></th>\n",
       "      <th>19.1</th>\n",
       "      <th>19.2</th>\n",
       "      <th>19.3</th>\n",
       "      <th>19.4</th>\n",
       "    </tr>\n",
       "    <tr>\n",
       "      <th>uniname</th>\n",
       "      <th></th>\n",
       "      <th></th>\n",
       "      <th></th>\n",
       "      <th></th>\n",
       "    </tr>\n",
       "  </thead>\n",
       "  <tbody>\n",
       "    <tr>\n",
       "      <th>uni1</th>\n",
       "      <td>Complied</td>\n",
       "      <td>NotAppl</td>\n",
       "      <td>Clarification</td>\n",
       "      <td>NotAppl</td>\n",
       "    </tr>\n",
       "    <tr>\n",
       "      <th>uni2</th>\n",
       "      <td>NotAppl</td>\n",
       "      <td>Complied</td>\n",
       "      <td>NotComplied</td>\n",
       "      <td>Clarification</td>\n",
       "    </tr>\n",
       "    <tr>\n",
       "      <th>uni3</th>\n",
       "      <td>Clarification</td>\n",
       "      <td>NotComplied</td>\n",
       "      <td>Complied</td>\n",
       "      <td>Complied</td>\n",
       "    </tr>\n",
       "    <tr>\n",
       "      <th>uni4</th>\n",
       "      <td>Complied</td>\n",
       "      <td>Clarification</td>\n",
       "      <td>NotAppl</td>\n",
       "      <td>Complied</td>\n",
       "    </tr>\n",
       "  </tbody>\n",
       "</table>\n",
       "</div>"
      ],
      "text/plain": [
       "                  19.1           19.2           19.3           19.4\n",
       "uniname                                                            \n",
       "uni1          Complied        NotAppl  Clarification        NotAppl\n",
       "uni2           NotAppl       Complied    NotComplied  Clarification\n",
       "uni3     Clarification    NotComplied       Complied       Complied\n",
       "uni4          Complied  Clarification        NotAppl       Complied"
      ]
     },
     "execution_count": 179,
     "metadata": {},
     "output_type": "execute_result"
    }
   ],
   "source": [
    "unicomp.head()"
   ]
  },
  {
   "cell_type": "code",
   "execution_count": 141,
   "metadata": {},
   "outputs": [],
   "source": [
    "articomp.reset_index('article',inplace=True)\n"
   ]
  },
  {
   "cell_type": "code",
   "execution_count": 143,
   "metadata": {},
   "outputs": [],
   "source": [
    "uni = unicomp['uniname'].tolist()\n",
    "art19_1 = unicomp[19.1].tolist()\n",
    "art19_2 = unicomp[19.2].tolist()\n",
    "art19_3 = unicomp[19.3].tolist()\n",
    "art19_4 = unicomp[19.4].tolist()\n",
    "\n",
    "art = articomp['article'].tolist()\n",
    "uni1 = articomp['uni1'].tolist()\n",
    "uni2 = articomp['uni2'].tolist()\n",
    "uni3 = articomp['uni3'].tolist()\n",
    "uni4 = articomp['uni4'].tolist()"
   ]
  },
  {
   "cell_type": "code",
   "execution_count": 146,
   "metadata": {},
   "outputs": [],
   "source": [
    "newdict={}\n",
    "newdict['Uniname']=uni\n",
    "newdict['19.1']=art19_1\n",
    "newdict['19.2']=art19_2\n",
    "newdict['19.3']=art19_3\n",
    "newdict['19.4']=art19_4\n",
    "\n",
    "newdict1={}\n",
    "newdict1['Article']=art\n",
    "newdict1['uni1']=uni1\n",
    "newdict1['uni2']=uni2\n",
    "newdict1['uni3']=uni3\n",
    "newdict1['uni4']=uni4"
   ]
  },
  {
   "cell_type": "code",
   "execution_count": 147,
   "metadata": {},
   "outputs": [
    {
     "data": {
      "text/plain": [
       "{'19.1': ['Complied', 'NotAppl', 'Clarification', 'Complied'],\n",
       " '19.2': ['NotAppl', 'Complied', 'NotComplied', 'Clarification'],\n",
       " '19.3': ['Clarification', 'NotComplied', 'Complied', 'NotAppl'],\n",
       " '19.4': ['NotAppl', 'Clarification', 'Complied', 'Complied'],\n",
       " 'Uniname': ['uni1', 'uni2', 'uni3', 'uni4']}"
      ]
     },
     "execution_count": 147,
     "metadata": {},
     "output_type": "execute_result"
    }
   ],
   "source": [
    "newdict"
   ]
  },
  {
   "cell_type": "code",
   "execution_count": 148,
   "metadata": {},
   "outputs": [
    {
     "data": {
      "text/plain": [
       "{'Article': [19.1, 19.2, 19.3, 19.4],\n",
       " 'uni1': ['Complied', 'NotAppl', 'Clarification', 'NotAppl'],\n",
       " 'uni2': ['NotAppl', 'Complied', 'NotComplied', 'Clarification'],\n",
       " 'uni3': ['Clarification', 'NotComplied', 'Complied', 'Complied'],\n",
       " 'uni4': ['Complied', 'Clarification', 'NotAppl', 'Complied']}"
      ]
     },
     "execution_count": 148,
     "metadata": {},
     "output_type": "execute_result"
    }
   ],
   "source": [
    "newdict1"
   ]
  },
  {
   "cell_type": "code",
   "execution_count": 163,
   "metadata": {},
   "outputs": [
    {
     "data": {
      "text/plain": [
       "dict_items([('Article', [19.1, 19.2, 19.3, 19.4]), ('uni1', ['Complied', 'NotAppl', 'Clarification', 'NotAppl']), ('uni2', ['NotAppl', 'Complied', 'NotComplied', 'Clarification']), ('uni3', ['Clarification', 'NotComplied', 'Complied', 'Complied']), ('uni4', ['Complied', 'Clarification', 'NotAppl', 'Complied'])])"
      ]
     },
     "execution_count": 163,
     "metadata": {},
     "output_type": "execute_result"
    }
   ],
   "source": [
    "newdict1.items()"
   ]
  },
  {
   "cell_type": "code",
   "execution_count": 133,
   "metadata": {},
   "outputs": [
    {
     "name": "stdout",
     "output_type": "stream",
     "text": [
      "---------------------19.1--------------------\n",
      "Complied for 19.1       : 2\n",
      "Gap Identifed for 19.1  : 0\n",
      "Not Applicable for 19.1 : 1\n",
      "Clarifiction for 19.1   : 1\n",
      "---------------------19.2--------------------\n",
      "Complied for 19.2       : 1\n",
      "Gap Identifed for 19.2  : 1\n",
      "Not Applicable for 19.2 : 1\n",
      "Clarifiction for 19.2   : 1\n",
      "---------------------19.3--------------------\n",
      "Complied for 19.3       : 1\n",
      "Gap Identifed for 19.3  : 1\n",
      "Not Applicable for 19.3 : 1\n",
      "Clarifiction for 19.3   : 1\n",
      "---------------------19.4--------------------\n",
      "Complied for 19.4       : 2\n",
      "Gap Identifed for 19.4  : 0\n",
      "Not Applicable for 19.4 : 1\n",
      "Clarifiction for 19.4   : 1\n"
     ]
    }
   ],
   "source": [
    "complied191=0\n",
    "gap191=0\n",
    "clari191=0\n",
    "notapp191 =0\n",
    "complied192=0\n",
    "gap192=0\n",
    "clari192=0\n",
    "notapp192 =0\n",
    "complied193=0\n",
    "gap193=0\n",
    "clari193=0\n",
    "notapp193 =0\n",
    "complied194=0\n",
    "gap194=0\n",
    "clari194=0\n",
    "notapp194 =0\n",
    "\n",
    "for i in range(0,4):\n",
    "    if newdict[\"19.1\"][i] ==\"Complied\":\n",
    "        complied191 = complied191 + 1\n",
    "    elif newdict[\"19.1\"][i] ==\"NotComplied\":\n",
    "        gap191= gap191 + 1\n",
    "    elif newdict[\"19.1\"][i] ==\"NotAppl\":\n",
    "        notapp191= notapp191 + 1\n",
    "    elif newdict[\"19.1\"][i] ==\"Clarification\":\n",
    "        clari191= clari191 + 1\n",
    "        \n",
    "    if newdict[\"19.2\"][i] ==\"Complied\":\n",
    "        complied192 = complied192 + 1\n",
    "    elif newdict[\"19.2\"][i] ==\"NotComplied\":\n",
    "        gap192= gap192 + 1\n",
    "    elif newdict[\"19.2\"][i] ==\"NotAppl\":\n",
    "        notapp192= notapp192 + 1\n",
    "    elif newdict[\"19.2\"][i] ==\"Clarification\":\n",
    "        clari192= clari192 + 1\n",
    "        \n",
    "    if newdict[\"19.3\"][i] ==\"Complied\":\n",
    "        complied193 = complied193 + 1\n",
    "    elif newdict[\"19.3\"][i] ==\"NotComplied\":\n",
    "        gap193= gap193 + 1\n",
    "    elif newdict[\"19.3\"][i] ==\"NotAppl\":\n",
    "        notapp193= notapp193 + 1\n",
    "    elif newdict[\"19.3\"][i] ==\"Clarification\":\n",
    "        clari193= clari193 + 1\n",
    "        \n",
    "    if newdict[\"19.4\"][i] ==\"Complied\":\n",
    "        complied194 = complied194 + 1\n",
    "    elif newdict[\"19.4\"][i] ==\"NotComplied\":\n",
    "        gap194= gap194 + 1\n",
    "    elif newdict[\"19.4\"][i] ==\"NotAppl\":\n",
    "        notapp194= notapp194 + 1\n",
    "    elif newdict[\"19.4\"][i] ==\"Clarification\":\n",
    "        clari194= clari194 + 1\n",
    "\n",
    "print(\"---------------------19.1--------------------\") \n",
    "\n",
    "print(\"Complied for 19.1       :\" , str(complied191))\n",
    "print(\"Gap Identifed for 19.1  :\" , str(gap191))\n",
    "print(\"Not Applicable for 19.1 :\" , str(notapp191))\n",
    "print(\"Clarifiction for 19.1   :\" , str(clari191))\n",
    "\n",
    "print(\"---------------------19.2--------------------\") \n",
    "print(\"Complied for 19.2       :\" , str(complied192))\n",
    "print(\"Gap Identifed for 19.2  :\" , str(gap192))\n",
    "print(\"Not Applicable for 19.2 :\" , str(notapp192))\n",
    "print(\"Clarifiction for 19.2   :\" , str(clari192))\n",
    "\n",
    "print(\"---------------------19.3--------------------\") \n",
    "\n",
    "print(\"Complied for 19.3       :\" , str(complied193))\n",
    "print(\"Gap Identifed for 19.3  :\" , str(gap193))\n",
    "print(\"Not Applicable for 19.3 :\" , str(notapp193))\n",
    "print(\"Clarifiction for 19.3   :\" , str(clari193))\n",
    "\n",
    "print(\"---------------------19.4--------------------\") \n",
    "\n",
    "print(\"Complied for 19.4       :\" , str(complied194))\n",
    "print(\"Gap Identifed for 19.4  :\" , str(gap194))\n",
    "print(\"Not Applicable for 19.4 :\" , str(notapp194))\n",
    "print(\"Clarifiction for 19.4   :\" , str(clari194))"
   ]
  },
  {
   "cell_type": "code",
   "execution_count": 149,
   "metadata": {},
   "outputs": [
    {
     "data": {
      "text/plain": [
       "{'Article': [19.1, 19.2, 19.3, 19.4],\n",
       " 'uni1': ['Complied', 'NotAppl', 'Clarification', 'NotAppl'],\n",
       " 'uni2': ['NotAppl', 'Complied', 'NotComplied', 'Clarification'],\n",
       " 'uni3': ['Clarification', 'NotComplied', 'Complied', 'Complied'],\n",
       " 'uni4': ['Complied', 'Clarification', 'NotAppl', 'Complied']}"
      ]
     },
     "execution_count": 149,
     "metadata": {},
     "output_type": "execute_result"
    }
   ],
   "source": [
    "newdict1"
   ]
  },
  {
   "cell_type": "code",
   "execution_count": 154,
   "metadata": {},
   "outputs": [
    {
     "name": "stdout",
     "output_type": "stream",
     "text": [
      "---------------------University 1--------------------\n",
      "Complied for Uni1       : 1\n",
      "Gap Identifed for Uni1  : 0\n",
      "Not Applicable for Uni1 : 2\n",
      "Clarifiction for Uni1   : 1\n",
      "---------------------University 2--------------------\n",
      "Complied for Uni2       : 1\n",
      "Gap Identifed for Uni2  : 1\n",
      "Not Applicable for Uni2 : 1\n",
      "Clarifiction for Uni2   : 1\n",
      "---------------------University 3--------------------\n",
      "Complied for Uni3       : 2\n",
      "Gap Identifed for Uni3  : 1\n",
      "Not Applicable for Uni3 : 0\n",
      "Clarifiction for Uni3   : 1\n",
      "---------------------University 4--------------------\n",
      "Complied for Uni4       : 2\n",
      "Gap Identifed for Uni4  : 0\n",
      "Not Applicable for Uni4 : 1\n",
      "Clarifiction for Uni4   : 1\n"
     ]
    }
   ],
   "source": [
    "compliedu1=0\n",
    "gapu1=0\n",
    "clariu1=0\n",
    "notappu1 =0\n",
    "compliedu2=0\n",
    "gapu2=0\n",
    "clariu2=0\n",
    "notappu2 =0\n",
    "compliedu3=0\n",
    "gapu3=0\n",
    "clariu3=0\n",
    "notappu3 =0\n",
    "compliedu4=0\n",
    "gapu4=0\n",
    "clariu4=0\n",
    "notappu4 =0\n",
    "\n",
    "for i in range(0,4):\n",
    "    if newdict1[\"uni1\"][i] ==\"Complied\":\n",
    "        compliedu1 = compliedu1 + 1\n",
    "    elif newdict1[\"uni1\"][i] ==\"NotComplied\":\n",
    "        gapu1= gapu1 + 1\n",
    "    elif newdict1[\"uni1\"][i] ==\"NotAppl\":\n",
    "        notappu1= notappu1 + 1\n",
    "    elif newdict1[\"uni1\"][i] ==\"Clarification\":\n",
    "        clariu1= clariu1 + 1\n",
    "        \n",
    "    if newdict1[\"uni2\"][i] ==\"Complied\":\n",
    "        compliedu2 = compliedu2 + 1\n",
    "    elif newdict1[\"uni2\"][i] ==\"NotComplied\":\n",
    "        gapu2= gapu2 + 1\n",
    "    elif newdict1[\"uni2\"][i] ==\"NotAppl\":\n",
    "        notappu2= notappu2 + 1\n",
    "    elif newdict1[\"uni2\"][i] ==\"Clarification\":\n",
    "        clariu2= clariu2 + 1\n",
    "        \n",
    "    if newdict1[\"uni3\"][i] ==\"Complied\":\n",
    "        compliedu3 = compliedu3 + 1\n",
    "    elif newdict1[\"uni3\"][i] ==\"NotComplied\":\n",
    "        gapu3= gapu3 + 1\n",
    "    elif newdict1[\"uni3\"][i] ==\"NotAppl\":\n",
    "        notappu3= notappu3 + 1\n",
    "    elif newdict1[\"uni3\"][i] ==\"Clarification\":\n",
    "        clariu3= clariu3 + 1\n",
    "        \n",
    "    if newdict1[\"uni4\"][i] ==\"Complied\":\n",
    "        compliedu4 = compliedu4 + 1\n",
    "    elif newdict1[\"uni4\"][i] ==\"NotComplied\":\n",
    "        gapu4= gapu4 + 1\n",
    "    elif newdict1[\"uni4\"][i] ==\"NotAppl\":\n",
    "        notappu4= notappu4 + 1\n",
    "    elif newdict1[\"uni4\"][i] ==\"Clarification\":\n",
    "        clariu4= clariu4 + 1\n",
    "\n",
    "print(\"---------------------University 1--------------------\") \n",
    "\n",
    "print(\"Complied for Uni1       :\" , str(compliedu1))\n",
    "print(\"Gap Identifed for Uni1  :\" , str(gapu1))\n",
    "print(\"Not Applicable for Uni1 :\" , str(notappu1))\n",
    "print(\"Clarifiction for Uni1   :\" , str(clariu1))\n",
    "\n",
    "print(\"---------------------University 2--------------------\") \n",
    "print(\"Complied for Uni2       :\" , str(compliedu2))\n",
    "print(\"Gap Identifed for Uni2  :\" , str(gapu2))\n",
    "print(\"Not Applicable for Uni2 :\" , str(notappu2))\n",
    "print(\"Clarifiction for Uni2   :\" , str(clariu2))\n",
    "\n",
    "print(\"---------------------University 3--------------------\") \n",
    "\n",
    "print(\"Complied for Uni3       :\" , str(compliedu3))\n",
    "print(\"Gap Identifed for Uni3  :\" , str(gapu3))\n",
    "print(\"Not Applicable for Uni3 :\" , str(notappu3))\n",
    "print(\"Clarifiction for Uni3   :\" , str(clariu3))\n",
    "\n",
    "print(\"---------------------University 4--------------------\") \n",
    "\n",
    "print(\"Complied for Uni4       :\" , str(compliedu4))\n",
    "print(\"Gap Identifed for Uni4  :\" , str(gapu4))\n",
    "print(\"Not Applicable for Uni4 :\" , str(notappu4))\n",
    "print(\"Clarifiction for Uni4   :\" , str(clariu4))"
   ]
  },
  {
   "cell_type": "code",
   "execution_count": 151,
   "metadata": {},
   "outputs": [
    {
     "data": {
      "text/plain": [
       "{'Article': [19.1, 19.2, 19.3, 19.4],\n",
       " 'uni1': ['Complied', 'NotAppl', 'Clarification', 'NotAppl'],\n",
       " 'uni2': ['NotAppl', 'Complied', 'NotComplied', 'Clarification'],\n",
       " 'uni3': ['Clarification', 'NotComplied', 'Complied', 'Complied'],\n",
       " 'uni4': ['Complied', 'Clarification', 'NotAppl', 'Complied']}"
      ]
     },
     "execution_count": 151,
     "metadata": {},
     "output_type": "execute_result"
    }
   ],
   "source": [
    "newdict1"
   ]
  }
 ],
 "metadata": {
  "kernelspec": {
   "display_name": "Python 3",
   "language": "python",
   "name": "python3"
  },
  "language_info": {
   "codemirror_mode": {
    "name": "ipython",
    "version": 3
   },
   "file_extension": ".py",
   "mimetype": "text/x-python",
   "name": "python",
   "nbconvert_exporter": "python",
   "pygments_lexer": "ipython3",
   "version": "3.6.4"
  }
 },
 "nbformat": 4,
 "nbformat_minor": 2
}
