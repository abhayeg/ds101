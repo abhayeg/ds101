{
 "cells": [
  {
   "cell_type": "code",
   "execution_count": 1,
   "metadata": {},
   "outputs": [],
   "source": [
    "import pandas as pd\n",
    "from pandas import DataFrame\n",
    "import numpy as np\n",
    "\n",
    "import matplotlib\n",
    "import matplotlib.pyplot as plt\n",
    "from mpl_toolkits.mplot3d import Axes3D\n",
    "import seaborn as sns\n",
    "from scipy.stats import norm, kurtosis, skew\n",
    "#from wordcloud import WordCloud, STOPWORDS\n",
    "pd.options.display.float_format = '{:,.1f}'.format\n",
    "\n",
    "sns.set()\n",
    "%matplotlib inline"
   ]
  },
  {
   "cell_type": "code",
   "execution_count": 2,
   "metadata": {},
   "outputs": [],
   "source": [
    "unicomp = pd.read_excel('unicomp.xls')\n",
    "articomp = pd.read_excel('articomp.xls')"
   ]
  },
  {
   "cell_type": "code",
   "execution_count": 8,
   "metadata": {},
   "outputs": [
    {
     "data": {
      "text/plain": [
       "uniname    object\n",
       "19.1       object\n",
       "19.2       object\n",
       "19.3       object\n",
       "19.4       object\n",
       "dtype: object"
      ]
     },
     "execution_count": 8,
     "metadata": {},
     "output_type": "execute_result"
    }
   ],
   "source": [
    "unicomp.dtypes"
   ]
  },
  {
   "cell_type": "code",
   "execution_count": 3,
   "metadata": {},
   "outputs": [
    {
     "data": {
      "text/html": [
       "<div>\n",
       "<style scoped>\n",
       "    .dataframe tbody tr th:only-of-type {\n",
       "        vertical-align: middle;\n",
       "    }\n",
       "\n",
       "    .dataframe tbody tr th {\n",
       "        vertical-align: top;\n",
       "    }\n",
       "\n",
       "    .dataframe thead th {\n",
       "        text-align: right;\n",
       "    }\n",
       "</style>\n",
       "<table border=\"1\" class=\"dataframe\">\n",
       "  <thead>\n",
       "    <tr style=\"text-align: right;\">\n",
       "      <th></th>\n",
       "      <th>article</th>\n",
       "      <th>uni1</th>\n",
       "      <th>uni2</th>\n",
       "      <th>uni3</th>\n",
       "      <th>uni4</th>\n",
       "    </tr>\n",
       "  </thead>\n",
       "  <tbody>\n",
       "    <tr>\n",
       "      <th>0</th>\n",
       "      <td>19.1</td>\n",
       "      <td>Complied</td>\n",
       "      <td>NotAppl</td>\n",
       "      <td>Clarification</td>\n",
       "      <td>Complied</td>\n",
       "    </tr>\n",
       "    <tr>\n",
       "      <th>1</th>\n",
       "      <td>19.2</td>\n",
       "      <td>NotAppl</td>\n",
       "      <td>Complied</td>\n",
       "      <td>NotComplied</td>\n",
       "      <td>Clarification</td>\n",
       "    </tr>\n",
       "    <tr>\n",
       "      <th>2</th>\n",
       "      <td>19.3</td>\n",
       "      <td>Clarification</td>\n",
       "      <td>NotComplied</td>\n",
       "      <td>Complied</td>\n",
       "      <td>NotAppl</td>\n",
       "    </tr>\n",
       "    <tr>\n",
       "      <th>3</th>\n",
       "      <td>19.4</td>\n",
       "      <td>NotAppl</td>\n",
       "      <td>Clarification</td>\n",
       "      <td>Complied</td>\n",
       "      <td>Complied</td>\n",
       "    </tr>\n",
       "  </tbody>\n",
       "</table>\n",
       "</div>"
      ],
      "text/plain": [
       "   article           uni1           uni2           uni3           uni4\n",
       "0     19.1       Complied        NotAppl  Clarification       Complied\n",
       "1     19.2        NotAppl       Complied    NotComplied  Clarification\n",
       "2     19.3  Clarification    NotComplied       Complied        NotAppl\n",
       "3     19.4        NotAppl  Clarification       Complied       Complied"
      ]
     },
     "execution_count": 3,
     "metadata": {},
     "output_type": "execute_result"
    }
   ],
   "source": [
    "articomp.head()"
   ]
  },
  {
   "cell_type": "code",
   "execution_count": 127,
   "metadata": {},
   "outputs": [],
   "source": [
    "unin=[]\n",
    "arti=[]\n",
    "stat=[]\n",
    "comb=[]\n",
    "for idx,row in unicomp.iterrows():\n",
    "    unin.append(idx) #print(\"firstloop--->\",str(idx))\n",
    "    comb.append(idx)\n",
    "    for idx1,row1 in unicomp.iteritems():\n",
    "        arti.append(idx1) #print(\"Secondloop--->\",str(idx1))\n",
    "        comb.append(idx1)\n",
    "        for idx2,row2 in unicomp.iterrows():\n",
    "            stat.append(row2[idx1]) #print(\"Thirdloop--->\",row2[idx1])\n",
    "            comb.append(row2[idx1])\n",
    "            "
   ]
  },
  {
   "cell_type": "code",
   "execution_count": 128,
   "metadata": {},
   "outputs": [],
   "source": [
    "dfunin = pd.DataFrame(unin)\n",
    "dfarti = pd.DataFrame(arti)\n",
    "dfstat = pd.DataFrame(stat)\n",
    "dfcomb = pd.DataFrame(comb)"
   ]
  },
  {
   "cell_type": "code",
   "execution_count": 9,
   "metadata": {},
   "outputs": [
    {
     "data": {
      "text/plain": [
       "dict_values(['uni4', 'NotAppl', 'NotAppl'])"
      ]
     },
     "execution_count": 9,
     "metadata": {},
     "output_type": "execute_result"
    }
   ],
   "source": [
    "newdict = {\"aUniname\":'',\"bArticle\":'',\"cStatus\": ''}\n",
    "\n",
    "#dfalist[\"Status\"][0]\n",
    "for i in range(0,len(dfstat)):\n",
    "    newdict[\"aUniname\"] = dfalist[\"Status\"][i]\n",
    "    i = i +1\n",
    "    for i1 in range(0,len(dfarti)):\n",
    "        newdict[\"bArticle\"] = dfalist[\"Status\"][i1]\n",
    "        i1 = i1 +1\n",
    "        for i2 in range(0,len(dfunin)):\n",
    "            newdict[\"cStatus\"] = dfalist[\"Status\"][i2]\n",
    "            i2=i2+1\n",
    "\n",
    "    \n",
    "newdict.keys()\n",
    "newdict.values()"
   ]
  },
  {
   "cell_type": "code",
   "execution_count": 145,
   "metadata": {},
   "outputs": [
    {
     "ename": "AttributeError",
     "evalue": "'DataFrame' object has no attribute 'Status'",
     "output_type": "error",
     "traceback": [
      "\u001b[0;31m---------------------------------------------------------------------------\u001b[0m",
      "\u001b[0;31mAttributeError\u001b[0m                            Traceback (most recent call last)",
      "\u001b[0;32m<ipython-input-145-c70d7beaf966>\u001b[0m in \u001b[0;36m<module>\u001b[0;34m()\u001b[0m\n\u001b[1;32m      6\u001b[0m \u001b[0muni\u001b[0m\u001b[0;34m=\u001b[0m\u001b[0;34m[\u001b[0m\u001b[0;34m]\u001b[0m\u001b[0;34m\u001b[0m\u001b[0m\n\u001b[1;32m      7\u001b[0m \u001b[0marti\u001b[0m\u001b[0;34m=\u001b[0m\u001b[0;34m[\u001b[0m\u001b[0;34m]\u001b[0m\u001b[0;34m\u001b[0m\u001b[0m\n\u001b[0;32m----> 8\u001b[0;31m \u001b[0;32mfor\u001b[0m \u001b[0mlength\u001b[0m \u001b[0;32min\u001b[0m \u001b[0mdfalist\u001b[0m\u001b[0;34m.\u001b[0m\u001b[0mStatus\u001b[0m\u001b[0;34m:\u001b[0m\u001b[0;34m\u001b[0m\u001b[0m\n\u001b[0m\u001b[1;32m      9\u001b[0m     \u001b[0mprint\u001b[0m\u001b[0;34m(\u001b[0m\u001b[0mlength\u001b[0m\u001b[0;34m[\u001b[0m\u001b[0mvalue\u001b[0m\u001b[0;34m(\u001b[0m\u001b[0mlength\u001b[0m\u001b[0;34m)\u001b[0m\u001b[0;34m]\u001b[0m\u001b[0;34m)\u001b[0m\u001b[0;34m\u001b[0m\u001b[0m\n\u001b[1;32m     10\u001b[0m \u001b[0;34m\u001b[0m\u001b[0m\n",
      "\u001b[0;32m~/Anaconda/anaconda3/lib/python3.6/site-packages/pandas/core/generic.py\u001b[0m in \u001b[0;36m__getattr__\u001b[0;34m(self, name)\u001b[0m\n\u001b[1;32m   3612\u001b[0m             \u001b[0;32mif\u001b[0m \u001b[0mname\u001b[0m \u001b[0;32min\u001b[0m \u001b[0mself\u001b[0m\u001b[0;34m.\u001b[0m\u001b[0m_info_axis\u001b[0m\u001b[0;34m:\u001b[0m\u001b[0;34m\u001b[0m\u001b[0m\n\u001b[1;32m   3613\u001b[0m                 \u001b[0;32mreturn\u001b[0m \u001b[0mself\u001b[0m\u001b[0;34m[\u001b[0m\u001b[0mname\u001b[0m\u001b[0;34m]\u001b[0m\u001b[0;34m\u001b[0m\u001b[0m\n\u001b[0;32m-> 3614\u001b[0;31m             \u001b[0;32mreturn\u001b[0m \u001b[0mobject\u001b[0m\u001b[0;34m.\u001b[0m\u001b[0m__getattribute__\u001b[0m\u001b[0;34m(\u001b[0m\u001b[0mself\u001b[0m\u001b[0;34m,\u001b[0m \u001b[0mname\u001b[0m\u001b[0;34m)\u001b[0m\u001b[0;34m\u001b[0m\u001b[0m\n\u001b[0m\u001b[1;32m   3615\u001b[0m \u001b[0;34m\u001b[0m\u001b[0m\n\u001b[1;32m   3616\u001b[0m     \u001b[0;32mdef\u001b[0m \u001b[0m__setattr__\u001b[0m\u001b[0;34m(\u001b[0m\u001b[0mself\u001b[0m\u001b[0;34m,\u001b[0m \u001b[0mname\u001b[0m\u001b[0;34m,\u001b[0m \u001b[0mvalue\u001b[0m\u001b[0;34m)\u001b[0m\u001b[0;34m:\u001b[0m\u001b[0;34m\u001b[0m\u001b[0m\n",
      "\u001b[0;31mAttributeError\u001b[0m: 'DataFrame' object has no attribute 'Status'"
     ]
    }
   ],
   "source": [
    "#dfunin = pd.DataFrame(unin)\n",
    "#dfarti = pd.DataFrame(arti)\n",
    "#dfstat = pd.DataFrame(stat)\n",
    "#dfcomb = pd.DataFrame(comb)\n",
    "\n",
    "uni=[]\n",
    "arti=[]\n",
    "for length in dfalist.Status:\n",
    "    print(length[value(length)])\n",
    "    "
   ]
  },
  {
   "cell_type": "code",
   "execution_count": 36,
   "metadata": {},
   "outputs": [
    {
     "data": {
      "text/html": [
       "<div>\n",
       "<style scoped>\n",
       "    .dataframe tbody tr th:only-of-type {\n",
       "        vertical-align: middle;\n",
       "    }\n",
       "\n",
       "    .dataframe tbody tr th {\n",
       "        vertical-align: top;\n",
       "    }\n",
       "\n",
       "    .dataframe thead th {\n",
       "        text-align: right;\n",
       "    }\n",
       "</style>\n",
       "<table border=\"1\" class=\"dataframe\">\n",
       "  <thead>\n",
       "    <tr style=\"text-align: right;\">\n",
       "      <th></th>\n",
       "    </tr>\n",
       "    <tr>\n",
       "      <th>0</th>\n",
       "    </tr>\n",
       "  </thead>\n",
       "  <tbody>\n",
       "    <tr>\n",
       "      <th>uni1</th>\n",
       "    </tr>\n",
       "    <tr>\n",
       "      <th>uni2</th>\n",
       "    </tr>\n",
       "    <tr>\n",
       "      <th>uni3</th>\n",
       "    </tr>\n",
       "    <tr>\n",
       "      <th>uni4</th>\n",
       "    </tr>\n",
       "  </tbody>\n",
       "</table>\n",
       "</div>"
      ],
      "text/plain": [
       "Empty DataFrame\n",
       "Columns: []\n",
       "Index: [uni1, uni2, uni3, uni4]"
      ]
     },
     "execution_count": 36,
     "metadata": {},
     "output_type": "execute_result"
    }
   ],
   "source": [
    "dfunin"
   ]
  },
  {
   "cell_type": "code",
   "execution_count": null,
   "metadata": {},
   "outputs": [],
   "source": [
    "#dfarti['dummy']=''\n",
    "#dfunin['dummy']=''\n",
    "#dfstat['dummy']=''\n",
    "\n",
    "#dfcombnew=pd.merge(dfunin,dfarti,on='dummy')\n",
    "#dfcombnew1=pd.merge(dfcombnew,dfstat,on='dummy')\n",
    "#dfcombnew1.drop('dummy',axis=1,inplace=True)\n",
    "#dfcombnew1.rename(columns={'Status_x':'University',\"Status_y\":\"Status\"},inplace=True)\n",
    "unicomp.head()"
   ]
  }
 ],
 "metadata": {
  "kernelspec": {
   "display_name": "Python 3",
   "language": "python",
   "name": "python3"
  },
  "language_info": {
   "codemirror_mode": {
    "name": "ipython",
    "version": 3
   },
   "file_extension": ".py",
   "mimetype": "text/x-python",
   "name": "python",
   "nbconvert_exporter": "python",
   "pygments_lexer": "ipython3",
   "version": "3.6.4"
  }
 },
 "nbformat": 4,
 "nbformat_minor": 2
}
